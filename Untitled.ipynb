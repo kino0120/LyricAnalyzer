{
 "cells": [
  {
   "cell_type": "code",
   "execution_count": 4,
   "metadata": {},
   "outputs": [],
   "source": [
    "import numpy as np"
   ]
  },
  {
   "cell_type": "code",
   "execution_count": 56,
   "metadata": {},
   "outputs": [],
   "source": [
    "arr = list(np.random.randint(0, 100, 2000000))"
   ]
  },
  {
   "cell_type": "code",
   "execution_count": 57,
   "metadata": {},
   "outputs": [],
   "source": [
    "from time import time"
   ]
  },
  {
   "cell_type": "code",
   "execution_count": 58,
   "metadata": {},
   "outputs": [
    {
     "name": "stdout",
     "output_type": "stream",
     "text": [
      "0.0001728534698486328\n"
     ]
    }
   ],
   "source": [
    "s= time()\n",
    "a = arr.index(0)\n",
    "e=time()\n",
    "print(e-s)"
   ]
  },
  {
   "cell_type": "code",
   "execution_count": 59,
   "metadata": {},
   "outputs": [
    {
     "name": "stdout",
     "output_type": "stream",
     "text": [
      "0.0001678466796875\n"
     ]
    }
   ],
   "source": [
    "s= time()\n",
    "i = 0\n",
    "while arr[i]>0:\n",
    "    i += 1\n",
    "e=time()\n",
    "print(e-s)"
   ]
  },
  {
   "cell_type": "code",
   "execution_count": 60,
   "metadata": {},
   "outputs": [
    {
     "name": "stdout",
     "output_type": "stream",
     "text": [
      "20057\n",
      "0.3801238536834717\n",
      "20057\n",
      "0.43343400955200195\n"
     ]
    }
   ],
   "source": [
    "cnt = 0\n",
    "t = time()\n",
    "for a in arr:\n",
    "    if a == 99:\n",
    "        cnt += 1\n",
    "print(cnt)\n",
    "e = time()\n",
    "print(e-t)\n",
    "\n",
    "cnt = 0\n",
    "t = time()\n",
    "for i,a in enumerate(arr):\n",
    "    if a == 99:\n",
    "        cnt += 1\n",
    "print(cnt)\n",
    "e = time()\n",
    "print(e-t)"
   ]
  },
  {
   "cell_type": "code",
   "execution_count": null,
   "metadata": {},
   "outputs": [],
   "source": []
  }
 ],
 "metadata": {
  "kernelspec": {
   "display_name": "Python 3",
   "language": "python",
   "name": "python3"
  },
  "language_info": {
   "codemirror_mode": {
    "name": "ipython",
    "version": 3
   },
   "file_extension": ".py",
   "mimetype": "text/x-python",
   "name": "python",
   "nbconvert_exporter": "python",
   "pygments_lexer": "ipython3",
   "version": "3.7.3"
  }
 },
 "nbformat": 4,
 "nbformat_minor": 2
}
